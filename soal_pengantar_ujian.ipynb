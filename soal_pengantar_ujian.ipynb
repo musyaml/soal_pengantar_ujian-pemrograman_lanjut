{
  "nbformat": 4,
  "nbformat_minor": 0,
  "metadata": {
    "colab": {
      "provenance": [],
      "authorship_tag": "ABX9TyN70tfaP98QpQHi6sMDtu5I",
      "include_colab_link": true
    },
    "kernelspec": {
      "name": "python3",
      "display_name": "Python 3"
    },
    "language_info": {
      "name": "python"
    }
  },
  "cells": [
    {
      "cell_type": "markdown",
      "metadata": {
        "id": "view-in-github",
        "colab_type": "text"
      },
      "source": [
        "<a href=\"https://colab.research.google.com/github/musyaml/soal_pengantar_ujian-pemrograman_lanjut/blob/main/soal_pengantar_ujian.ipynb\" target=\"_parent\"><img src=\"https://colab.research.google.com/assets/colab-badge.svg\" alt=\"Open In Colab\"/></a>"
      ]
    },
    {
      "cell_type": "code",
      "execution_count": 1,
      "metadata": {
        "id": "V0sOoxH0Mbx2"
      },
      "outputs": [],
      "source": [
        "#Nama           : Muhammad Syaamil Muzhaffar\n",
        "#NIM            : 41823010124\n",
        "#Mata Kuliah    : Pemrograman Lanjut\n",
        "#Dosen Pengampu : Muhammad Ali Akbar, M.Kom"
      ]
    },
    {
      "cell_type": "code",
      "source": [
        "#Tuliskan hasil dari ekspresi 15 mod 5\n",
        "a = 15 % 5\n",
        "print(a)"
      ],
      "metadata": {
        "colab": {
          "base_uri": "https://localhost:8080/"
        },
        "id": "462B8P3KNNcC",
        "outputId": "6471bb7e-04cd-4dd9-8c02-e7f04eb35d04"
      },
      "execution_count": 2,
      "outputs": [
        {
          "output_type": "stream",
          "name": "stdout",
          "text": [
            "0\n"
          ]
        }
      ]
    },
    {
      "cell_type": "code",
      "source": [
        "#Tuliskan hasil dari ekspresi 12 + 3 * 5 == 75\n",
        "b = 12 + 3 * 5 == 75\n",
        "print(b)"
      ],
      "metadata": {
        "colab": {
          "base_uri": "https://localhost:8080/"
        },
        "id": "U8yrdeXSNPzx",
        "outputId": "49e41ebe-21aa-49cf-8580-b1caa561d7d9"
      },
      "execution_count": 3,
      "outputs": [
        {
          "output_type": "stream",
          "name": "stdout",
          "text": [
            "False\n"
          ]
        }
      ]
    },
    {
      "cell_type": "code",
      "source": [
        "#Tuliskan hasil dari ekspresi “PML” + ”15523”\n",
        "c = \"PML\" + \"15523\"\n",
        "print(c)"
      ],
      "metadata": {
        "colab": {
          "base_uri": "https://localhost:8080/"
        },
        "id": "VlVr7iypNRvS",
        "outputId": "713af576-38f9-4f6f-df5a-95367f4b9f37"
      },
      "execution_count": 4,
      "outputs": [
        {
          "output_type": "stream",
          "name": "stdout",
          "text": [
            "PML15523\n"
          ]
        }
      ]
    },
    {
      "cell_type": "code",
      "source": [
        "#Tuliskan hasil dari ekspresi “100” + 234\n",
        "d = 100 + 234\n",
        "print(d)"
      ],
      "metadata": {
        "colab": {
          "base_uri": "https://localhost:8080/"
        },
        "id": "grSoCOKVNT9i",
        "outputId": "b22a1461-7056-4d78-a97e-7b541b1d39a5"
      },
      "execution_count": 5,
      "outputs": [
        {
          "output_type": "stream",
          "name": "stdout",
          "text": [
            "334\n"
          ]
        }
      ]
    },
    {
      "cell_type": "code",
      "source": [
        "#Tuliskan hasil dari ekspresi ((11 % 3) + 2) != 8 / 2\n",
        "e = ((11 % 3) + 2) != 8 / 2\n",
        "print(e)"
      ],
      "metadata": {
        "colab": {
          "base_uri": "https://localhost:8080/"
        },
        "id": "gASlFJr5NaZ2",
        "outputId": "aeaa58a8-fdaf-45ad-8a03-9773b6ece6a3"
      },
      "execution_count": 6,
      "outputs": [
        {
          "output_type": "stream",
          "name": "stdout",
          "text": [
            "False\n"
          ]
        }
      ]
    },
    {
      "cell_type": "code",
      "source": [
        "#Diberikan 3 buah variabel p = 11, q = 5, dan r = 4. Tentukanlah ekspresi Boolean ((p - r) == (r + q))\n",
        "a = (11 - 4) == (4 + 5)\n",
        "print(a)"
      ],
      "metadata": {
        "colab": {
          "base_uri": "https://localhost:8080/"
        },
        "id": "-27srN1_Nbsi",
        "outputId": "c6eb9667-f918-4841-9135-6862114a102e"
      },
      "execution_count": 7,
      "outputs": [
        {
          "output_type": "stream",
          "name": "stdout",
          "text": [
            "False\n"
          ]
        }
      ]
    },
    {
      "cell_type": "code",
      "source": [
        "#Diberikan 3 buah variabel p = 11, q = 5, dan r = 4. Tentukanlah ekspresi Boolean (((p % 3) + q) != (r % 2))\n",
        "b = ((11 % 3) + 5) != (4 % 2)\n",
        "print(b)"
      ],
      "metadata": {
        "colab": {
          "base_uri": "https://localhost:8080/"
        },
        "id": "eUW0xjP9NfJJ",
        "outputId": "0896afa7-8948-4f44-8b6c-fd644b387053"
      },
      "execution_count": 8,
      "outputs": [
        {
          "output_type": "stream",
          "name": "stdout",
          "text": [
            "True\n"
          ]
        }
      ]
    },
    {
      "cell_type": "code",
      "source": [
        "#Diberikan 3 buah variabel p = 11, q = 5, dan r = 4. Tentukanlah ekspresi Boolean ((q - 3) == (p % 2 + q))\n",
        "c = (5 - 3) == (11 % 2 + 5)\n",
        "print(c)"
      ],
      "metadata": {
        "colab": {
          "base_uri": "https://localhost:8080/"
        },
        "id": "-uJaXe11NkB3",
        "outputId": "ba1301e1-1451-46c2-b580-f702b1f0ec4f"
      },
      "execution_count": 9,
      "outputs": [
        {
          "output_type": "stream",
          "name": "stdout",
          "text": [
            "False\n"
          ]
        }
      ]
    },
    {
      "cell_type": "code",
      "source": [
        "# Diberikan 3 buah variabel p = 11, q = 5, dan r = 4. Tentukanlah ekspresi Boolean ((r + q) != ((p * 2) % 2))\n",
        "d = (4 + 5) != ((11 * 2) % 2)\n",
        "print(d)"
      ],
      "metadata": {
        "colab": {
          "base_uri": "https://localhost:8080/"
        },
        "id": "aGf4YJdMNqB8",
        "outputId": "bf946851-33ea-4cc1-d001-6b21531b3c8c"
      },
      "execution_count": 10,
      "outputs": [
        {
          "output_type": "stream",
          "name": "stdout",
          "text": [
            "True\n"
          ]
        }
      ]
    },
    {
      "cell_type": "code",
      "source": [
        "#Diberikan 3 buah variabel p = 11, q = 5, dan r = 4. Tentukanlah ekspresi Boolean ((((q % 3) + p) > (r % 2)))\n",
        "e = ((5 % 3) + 11) > (4 % 2)\n",
        "print(e)"
      ],
      "metadata": {
        "colab": {
          "base_uri": "https://localhost:8080/"
        },
        "id": "Ip-xlyXdNrIe",
        "outputId": "a930204d-2173-412a-f68c-71077f00e24d"
      },
      "execution_count": 11,
      "outputs": [
        {
          "output_type": "stream",
          "name": "stdout",
          "text": [
            "True\n"
          ]
        }
      ]
    },
    {
      "cell_type": "code",
      "source": [
        "#Diberikan 3 buah variabel p = 11, q = 5, dan r = 4. Tentukanlah ekspresi Boolean (((r + p)) <= (q * 5))\n",
        "f = (4 + 11) <= (5 * 5)\n",
        "print(f)"
      ],
      "metadata": {
        "colab": {
          "base_uri": "https://localhost:8080/"
        },
        "id": "m2pamG_oNwgi",
        "outputId": "438400ef-41a8-4a2a-dc7f-a1927bd1e289"
      },
      "execution_count": 12,
      "outputs": [
        {
          "output_type": "stream",
          "name": "stdout",
          "text": [
            "True\n"
          ]
        }
      ]
    },
    {
      "cell_type": "code",
      "source": [
        "#Apakah hasil dari cuplikan kode “Honey” + “Boo” * 3\n",
        "\"Honey\" + \"Boo\" * 3"
      ],
      "metadata": {
        "colab": {
          "base_uri": "https://localhost:8080/",
          "height": 36
        },
        "id": "k-iRktZeNx1G",
        "outputId": "1cdd0794-7db5-4c99-b2fa-5ace0871d450"
      },
      "execution_count": 13,
      "outputs": [
        {
          "output_type": "execute_result",
          "data": {
            "text/plain": [
              "'HoneyBooBooBoo'"
            ],
            "application/vnd.google.colaboratory.intrinsic+json": {
              "type": "string"
            }
          },
          "metadata": {},
          "execution_count": 13
        }
      ]
    },
    {
      "cell_type": "code",
      "source": [
        "#Perhatikan kode berikut, manakah hasil dari pemanggilan fungsi berikut:\n",
        "#capitals = {}\n",
        "#capitals[’Murica’] = ’Warshington’\n",
        "#capitals[’Germany’] = ’Bonn’\n",
        "#capitals[’France’] = ’Paris’\n",
        "#capitals[’Engalnd’] = ’London’\n",
        "#capitals[’Germany’] = ’Berlin’\n",
        "#Apa hasil pemanggilan fungsi capitals[‘Germany’]\n",
        "capitals = {}\n",
        "capitals['Murica'] = 'Warshington'\n",
        "capitals['Germany'] = 'Bonn'\n",
        "capitals['France'] = 'Paris'\n",
        "capitals['England'] = 'London'\n",
        "capitals['Germany'] = 'Berlin'\n",
        "\n",
        "capitals['Germany']"
      ],
      "metadata": {
        "colab": {
          "base_uri": "https://localhost:8080/",
          "height": 36
        },
        "id": "rJ75Gu8vN0uy",
        "outputId": "0c89abb6-cb46-4d04-d4b2-f81a1c3f7d0d"
      },
      "execution_count": 14,
      "outputs": [
        {
          "output_type": "execute_result",
          "data": {
            "text/plain": [
              "'Berlin'"
            ],
            "application/vnd.google.colaboratory.intrinsic+json": {
              "type": "string"
            }
          },
          "metadata": {},
          "execution_count": 14
        }
      ]
    },
    {
      "cell_type": "code",
      "source": [
        "#Apakah hasil dari potongan kode berikut:\n",
        "#a = \"23\"\n",
        "#b = 9\n",
        "#print(a + b)\n",
        "a = 23\n",
        "b = 9\n",
        "print(a + b)"
      ],
      "metadata": {
        "colab": {
          "base_uri": "https://localhost:8080/"
        },
        "id": "g1Ug7DnnN3R5",
        "outputId": "3f3fc3d0-3a13-493f-969c-cb2e519b430d"
      },
      "execution_count": 15,
      "outputs": [
        {
          "output_type": "stream",
          "name": "stdout",
          "text": [
            "32\n"
          ]
        }
      ]
    },
    {
      "cell_type": "code",
      "source": [
        "#Berikut ini adalah definisi list dalam python\n",
        "#>>> letters = [“a”, ”b”, ”o”, ”c”, ”p”]\n",
        "#Apa jawaban dari >>> letters[1]\n",
        "letters = [\"a\", \"b\", \"o\", \"c\", \"p\"]\n",
        "letters[1]"
      ],
      "metadata": {
        "colab": {
          "base_uri": "https://localhost:8080/",
          "height": 36
        },
        "id": "Quk2NhJwN5i9",
        "outputId": "43afd0a3-ba81-4dd0-a810-71c2f21f012e"
      },
      "execution_count": 16,
      "outputs": [
        {
          "output_type": "execute_result",
          "data": {
            "text/plain": [
              "'b'"
            ],
            "application/vnd.google.colaboratory.intrinsic+json": {
              "type": "string"
            }
          },
          "metadata": {},
          "execution_count": 16
        }
      ]
    },
    {
      "cell_type": "code",
      "source": [
        "#Berikut ini adalah definisi list dalam python\n",
        "#>>> letters = [“a”, ”b”, ”o”, ”c”, ”p”]\n",
        "#Apa jawaban dari >>> letters[len(letters) - 2]\n",
        "letters[len(letters) - 2]"
      ],
      "metadata": {
        "colab": {
          "base_uri": "https://localhost:8080/",
          "height": 36
        },
        "id": "fq7gQyhbN86v",
        "outputId": "a0ead17c-1653-4fba-9332-85093f6edeb0"
      },
      "execution_count": 17,
      "outputs": [
        {
          "output_type": "execute_result",
          "data": {
            "text/plain": [
              "'c'"
            ],
            "application/vnd.google.colaboratory.intrinsic+json": {
              "type": "string"
            }
          },
          "metadata": {},
          "execution_count": 17
        }
      ]
    },
    {
      "cell_type": "code",
      "source": [
        "#Berikut ini adalah definisi list dalam python\n",
        "#>>> letters = [“a”, ”b”, ”o”, ”c”, ”p”]\n",
        "#Apa jawaban dari >>> letters + [“x”]\n",
        "letters + [\"x\"]"
      ],
      "metadata": {
        "colab": {
          "base_uri": "https://localhost:8080/"
        },
        "id": "h3Ji2RoIN_qD",
        "outputId": "703d61a3-f7f5-4adb-95b6-10078ffbf1f7"
      },
      "execution_count": 18,
      "outputs": [
        {
          "output_type": "execute_result",
          "data": {
            "text/plain": [
              "['a', 'b', 'o', 'c', 'p', 'x']"
            ]
          },
          "metadata": {},
          "execution_count": 18
        }
      ]
    },
    {
      "cell_type": "code",
      "source": [
        "#Berikut ini adalah definisi list dalam python\n",
        "#>>> letters = [“a”, ”b”, ”o”, ”c”, ”p”]\n",
        "#Apa jawaban dari >>> letters\n",
        "letters"
      ],
      "metadata": {
        "colab": {
          "base_uri": "https://localhost:8080/"
        },
        "id": "MD_sw2KyOAd0",
        "outputId": "358fe4e6-b354-4b81-c980-2437fafaf876"
      },
      "execution_count": 19,
      "outputs": [
        {
          "output_type": "execute_result",
          "data": {
            "text/plain": [
              "['a', 'b', 'o', 'c', 'p']"
            ]
          },
          "metadata": {},
          "execution_count": 19
        }
      ]
    },
    {
      "cell_type": "code",
      "source": [
        "#Apa hasil dari kode berikut:\n",
        "#‘ ‘.join(‘h a n d s’.split())\n",
        "' '.join('h a n d s'.split())"
      ],
      "metadata": {
        "colab": {
          "base_uri": "https://localhost:8080/",
          "height": 36
        },
        "id": "kNjkYhsfODTv",
        "outputId": "b1372966-2d79-4cb3-816b-dbf4bbbbce29"
      },
      "execution_count": 20,
      "outputs": [
        {
          "output_type": "execute_result",
          "data": {
            "text/plain": [
              "'h a n d s'"
            ],
            "application/vnd.google.colaboratory.intrinsic+json": {
              "type": "string"
            }
          },
          "metadata": {},
          "execution_count": 20
        }
      ]
    },
    {
      "cell_type": "code",
      "source": [
        "#Perhatikan kode json berikut:\n",
        "#json_string = \"\"\"\n",
        "#[\n",
        "#   {\"1\": \"one\", \"2\": \"two\", \"3\": \"three\"},\n",
        "#   {\"1\": \"un\", \"2\": \"deux\", \"3\": \"trois\"},\n",
        "#   {\"1\": \"eins\", \"2\": \"zwei\", \"3\": \"drei\"}\n",
        "#]\n",
        "#\"\"\"\n",
        "#Apa hasil dari eksekusi kode berikut:\n",
        "#json.loads(json_string)[1][2]\n",
        "import json\n",
        "\n",
        "json_string = \"\"\"\n",
        "[\n",
        "    {\"1\": \"one\", \"2\": \"two\", \"3\": \"three\"},\n",
        "    {\"1\": \"un\", \"2\": \"deux\", \"3\": \"trois\"},\n",
        "    {\"1\": \"eins\", \"2\": \"zwei\", \"3\": \"drei\"}\n",
        "]\n",
        "\"\"\"\n",
        "\n",
        "try:\n",
        "    data = json.loads(json_string)\n",
        "    result = data[1][\"2\"]\n",
        "    print(result)\n",
        "except json.JSONDecodeError as e:\n",
        "    print(f\"JSON decoding error: {e}\")\n",
        "except KeyError as e:\n",
        "    print(f\"Key error: {e}\")\n",
        "except IndexError as e:\n",
        "    print(f\"Index error: {e}\")"
      ],
      "metadata": {
        "colab": {
          "base_uri": "https://localhost:8080/"
        },
        "id": "brcH3U-2OGio",
        "outputId": "42a76918-2900-43f5-806f-737007673d21"
      },
      "execution_count": 21,
      "outputs": [
        {
          "output_type": "stream",
          "name": "stdout",
          "text": [
            "deux\n"
          ]
        }
      ]
    },
    {
      "cell_type": "code",
      "source": [
        "#Berikut ini adalah fungsi python yang mengambil list bilangan bulat pembagi\n",
        "#sebagai masukan, dan melakukan pencarian bilangan dalam list yang habis dibagi\n",
        "#oleh pembagi. Fungsi itu mengembalikan indeks kemunculan pertama dari nomor\n",
        "#tersebut, atau tidak ditemukan bilangan yang dimaksud. Jika nilai array Ketika\n",
        "#fungsi dipanggil adalah vals = [101, 4, 12, 24]. Maka hasilnya akan\n",
        "#mengembalikan nilai 1 karena dari list tersebut Ketika 101 /2 tidak dapat\n",
        "#dibagi, sedangkan Ketika 4/2 dapat dibagi maka akan mengembalikan indeks 1\n",
        "#yakni indeks dari angka 4 berada.\n",
        "\n",
        "#def pembagi_indeks1(nums, divisor):\n",
        "#for i in range(len(nums)):\n",
        "#if…………………………………… :\n",
        "#return ………. :\n",
        "#return …….\n",
        "\n",
        "#Contoh, misal nilai vals barunya adalah vals = [100, 66, 55, 64, 41, 35, 18, 64]\n",
        "#pembagi_indeks(vals, 5)\n",
        "#hasilnya adalah: 2\n",
        "\n",
        "def pembagi_indeks(nums, divisor):\n",
        "    for i in range(len(nums)):\n",
        "        if nums[i] % divisor == 0:\n",
        "            return i\n",
        "    return -1\n",
        "\n",
        "vals = [100, 66, 55, 64, 41, 35, 18, 64]\n",
        "pembagi_indeks(vals, 5)"
      ],
      "metadata": {
        "colab": {
          "base_uri": "https://localhost:8080/"
        },
        "id": "2Fh7DXgfOMWT",
        "outputId": "1ee96ab1-7fc3-4ec8-898f-c02a5f21fc03"
      },
      "execution_count": 22,
      "outputs": [
        {
          "output_type": "execute_result",
          "data": {
            "text/plain": [
              "0"
            ]
          },
          "metadata": {},
          "execution_count": 22
        }
      ]
    },
    {
      "cell_type": "code",
      "source": [
        "#Lengkapi kode python berikut, sehingga Ketika dilakukan pemanggilan\n",
        "#print(mystery(4,3))\n",
        "#outputnya adalah 4\n",
        "#def mystery(n,m) :\n",
        "#    p = 0\n",
        "#    e = 0\n",
        "def mystery(n, m):\n",
        "    p = 0\n",
        "    e = 0\n",
        "    while p < n:\n",
        "        p = n\n",
        "        e = m\n",
        "    return p\n",
        "\n",
        "print(mystery(4, 3))"
      ],
      "metadata": {
        "colab": {
          "base_uri": "https://localhost:8080/"
        },
        "id": "nLJl4oB6OP7i",
        "outputId": "0ebd6c44-7650-4998-d291-e87e4800cb0a"
      },
      "execution_count": 23,
      "outputs": [
        {
          "output_type": "stream",
          "name": "stdout",
          "text": [
            "4\n"
          ]
        }
      ]
    }
  ]
}